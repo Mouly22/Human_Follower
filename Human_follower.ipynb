{
 "cells": [
  {
   "cell_type": "code",
   "execution_count": 46,
   "id": "536dc73b",
   "metadata": {},
   "outputs": [
    {
     "name": "stdout",
     "output_type": "stream",
     "text": [
      "[INFO] loading model\n",
      "[INFO] computing object detections.... \n"
     ]
    }
   ],
   "source": [
    "import cv2\n",
    "import matplotlib.pyplot as plt\n",
    "import numpy as np\n",
    "\n",
    "CLASSES = [\"background\", \"aeroplane\", \"bicycle\", \"bird\", \"boat\", \"bottle\", \"bus\", \"car\", \"cat\", \"chair\", \"cow\", \"diningtable\",\"dog\", \"horse\", \"motorbike\", \"person\", \"pottedplant\", \"sheep\",\"sofa\", \"train\", \"tvmonitor\"]\n",
    "COLORS = np.random.uniform(0, 255, size = (len(CLASSES), 3))\n",
    "\n",
    "print(\"[INFO] loading model\")\n",
    "net = cv2.dnn.readNetFromCaffe(\"MobileNetSSD_deploy.prototxt.txt\", \"MobileNetSSD_deploy.caffemodel\")\n",
    "\n",
    "print(\"[INFO] computing object detections.... \")\n",
    "net.setInput(blob)\n",
    "detections = net.forward()\n",
    "\n",
    "cap = cv2.VideoCapture(0)\n",
    "\n",
    "ret,frame1 = cap.read()\n",
    "import math\n",
    "\n",
    "while True:\n",
    "    ret,image = cap.read()\n",
    "    (h,w) = image.shape[:2]\n",
    "    blob = cv2.dnn.blobFromImage(cv2.resize(image, (300,300)), 0.007843, (300,300), 127.5)\n",
    "    net.setInput(blob)\n",
    "    detections = net.forward()\n",
    "    max_area = 0\n",
    "    flag = False\n",
    "    for i in np.arange(0, detections.shape[2]):\n",
    "        confidence = detections[0, 0, i, 2]\n",
    "    \n",
    "        if confidence > 0.2:\n",
    "            idx = int(detections[0,0, i, 1])\n",
    "                #print(idx)\n",
    "            if CLASSES[idx] == \"person\":\n",
    "                flag = True\n",
    "                box = detections[0, 0, i, 3:7]*np.array([w, h, w, h])\n",
    "                (x1, y1, width1, height1) = box.astype(\"int\")\n",
    "\n",
    "                # display the prediction\n",
    "                label = \"{}: {:.2f}%\".format(CLASSES[idx], confidence*100)\n",
    "                #print(\"[INFO] {}\".format(label))\n",
    "                cv2.rectangle(image, (x1, y1), (width1, height1), COLORS[idx], 2)\n",
    "                area = abs(x1 - width1) * abs(y1 - height1)\n",
    "                if area > max_area:\n",
    "                    max_area = area\n",
    "                    x,y,width,height = x1, y1, width1, height1\n",
    "                    \n",
    "\n",
    "                    #y = startY-15 if startY-15 > 15 else startY+15\n",
    "                    #cv2.putText(image, label, (startX, y), cv2.FONT_HERSHEY_SIMPLEX, 0.5, COLORS[idx], 2)\n",
    "                    #x, y, width, height = startX, startY, endX, endY\n",
    "    if flag:\n",
    "        pos1 = (x+ width) //2\n",
    "        pos2 = (y+ height)//2\n",
    "        w_shape = image.shape[1]//2\n",
    "        h_shape = image.shape[0]//2\n",
    "        eqn1 = pos1 - w_shape\n",
    "        eqn2 = pos2 - h_shape\n",
    "                        #calculating the distance of the face\n",
    "        distance = math.sqrt((eqn1)**2 + (eqn2)**2)\n",
    "                        #defining the rectangle\n",
    "                        #cv2.rectangle(image,(x,y),(x+width, y+height), (0, 255, 0), 4)\n",
    "                        #line for indicating the center of the face\n",
    "        cv2.line(image, (w_shape, h_shape), (pos1, pos2), (0,255,0), 3)\n",
    "                        #for face positions\n",
    "        variable = 'Center'\n",
    "\n",
    "        if eqn1 > 0:\n",
    "            variable = 'Right'\n",
    "        else:\n",
    "            variable = 'Left'\n",
    "\n",
    "\n",
    "                        #text for the distance\n",
    "        #cv2.putText(image, 'Distance :'+ str(int(distance)),(x+100,y+100), cv2.FONT_HERSHEY_COMPLEX, 1, (0, 150,0), 2)\n",
    "\n",
    "                        #text for the position\n",
    "        cv2.putText(image, 'Position: '+ variable, (x+100, y+150), cv2.FONT_HERSHEY_COMPLEX, 1, (0, 150,0), 2)\n",
    "\n",
    " \n",
    "    \n",
    "    \n",
    "    #image = cv2.cvtColor(image, cv2.COLOR_BGR2RGB)\n",
    "    cv2.imshow(\"feed\",image)\n",
    "     \n",
    "    \n",
    "    if cv2.waitKey(50) & 0xFF == ord(\"q\"): # press q to break the loop\n",
    "            break\n",
    "cv2.destroyAllWindows()\n",
    "cap.release()"
   ]
  },
  {
   "cell_type": "code",
   "execution_count": 35,
   "id": "cc018a30",
   "metadata": {},
   "outputs": [],
   "source": []
  },
  {
   "cell_type": "code",
   "execution_count": 36,
   "id": "9be17b00",
   "metadata": {},
   "outputs": [],
   "source": []
  },
  {
   "cell_type": "code",
   "execution_count": 37,
   "id": "fad79a78",
   "metadata": {},
   "outputs": [],
   "source": []
  },
  {
   "cell_type": "code",
   "execution_count": 38,
   "id": "2088ad10",
   "metadata": {},
   "outputs": [],
   "source": []
  },
  {
   "cell_type": "code",
   "execution_count": null,
   "id": "b03bfc0d",
   "metadata": {},
   "outputs": [],
   "source": []
  },
  {
   "cell_type": "code",
   "execution_count": null,
   "id": "69a90a2f",
   "metadata": {},
   "outputs": [],
   "source": []
  },
  {
   "cell_type": "code",
   "execution_count": 41,
   "id": "9c9b223c",
   "metadata": {},
   "outputs": [],
   "source": []
  },
  {
   "cell_type": "code",
   "execution_count": 42,
   "id": "ca9d3209",
   "metadata": {},
   "outputs": [],
   "source": []
  },
  {
   "cell_type": "code",
   "execution_count": null,
   "id": "0e665fd4",
   "metadata": {},
   "outputs": [],
   "source": []
  },
  {
   "cell_type": "code",
   "execution_count": 44,
   "id": "790420ab",
   "metadata": {},
   "outputs": [],
   "source": []
  },
  {
   "cell_type": "code",
   "execution_count": null,
   "id": "3a57cf96",
   "metadata": {},
   "outputs": [],
   "source": []
  }
 ],
 "metadata": {
  "kernelspec": {
   "display_name": "Python 3",
   "language": "python",
   "name": "python3"
  },
  "language_info": {
   "codemirror_mode": {
    "name": "ipython",
    "version": 3
   },
   "file_extension": ".py",
   "mimetype": "text/x-python",
   "name": "python",
   "nbconvert_exporter": "python",
   "pygments_lexer": "ipython3",
   "version": "3.8.8"
  }
 },
 "nbformat": 4,
 "nbformat_minor": 5
}
